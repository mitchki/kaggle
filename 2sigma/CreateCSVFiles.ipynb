{
 "cells": [
  {
   "cell_type": "code",
   "execution_count": 1,
   "metadata": {
    "collapsed": true
   },
   "outputs": [],
   "source": [
    "import pandas as pd"
   ]
  },
  {
   "cell_type": "code",
   "execution_count": 4,
   "metadata": {
    "collapsed": false
   },
   "outputs": [
    {
     "name": "stdout",
     "output_type": "stream",
     "text": [
      "(49352, 15)\n",
      "(74659, 14)\n"
     ]
    }
   ],
   "source": [
    "data_path = \"~/data/TwoSigma/\"\n",
    "train_file = data_path + \"train.json\"\n",
    "test_file = data_path + \"test.json\"\n",
    "train_raw = pd.read_json(train_file)\n",
    "test_raw = pd.read_json(test_file)\n",
    "print(train_raw.shape)\n",
    "print(test_raw.shape)"
   ]
  },
  {
   "cell_type": "code",
   "execution_count": 5,
   "metadata": {
    "collapsed": true
   },
   "outputs": [],
   "source": [
    "train_raw.to_csv('train_raw.csv',index=False)\n",
    "test_raw.to_csv('test_raw.csv',index=False)"
   ]
  },
  {
   "cell_type": "code",
   "execution_count": 8,
   "metadata": {
    "collapsed": true
   },
   "outputs": [],
   "source": [
    "# Already processed features\n",
    "train_proc = pd.read_pickle('train_df.pkl')\n",
    "test_proc = pd.read_pickle('test_df.pkl')"
   ]
  },
  {
   "cell_type": "code",
   "execution_count": 9,
   "metadata": {
    "collapsed": false
   },
   "outputs": [
    {
     "name": "stdout",
     "output_type": "stream",
     "text": [
      "<class 'pandas.core.frame.DataFrame'>\n",
      "Int64Index: 49352 entries, 10 to 99994\n",
      "Data columns (total 23 columns):\n",
      "bathrooms                49352 non-null float64\n",
      "bedrooms                 49352 non-null int64\n",
      "building_id              49352 non-null int64\n",
      "created                  49352 non-null datetime64[ns]\n",
      "description              49352 non-null object\n",
      "display_address          49352 non-null int64\n",
      "features                 49352 non-null object\n",
      "interest_level           49352 non-null object\n",
      "latitude                 49352 non-null float64\n",
      "listing_id               49352 non-null int64\n",
      "longitude                49352 non-null float64\n",
      "manager_id               49352 non-null int64\n",
      "photos                   49352 non-null object\n",
      "price                    49352 non-null int64\n",
      "street_address           49352 non-null int64\n",
      "num_photos               49352 non-null int64\n",
      "num_features             49352 non-null int64\n",
      "num_description_words    49352 non-null int64\n",
      "created_year             49352 non-null int64\n",
      "created_month            49352 non-null int64\n",
      "created_day              49352 non-null int64\n",
      "created_hour             49352 non-null int64\n",
      "created_dayofweek        49352 non-null int64\n",
      "dtypes: datetime64[ns](1), float64(3), int64(15), object(4)\n",
      "memory usage: 9.0+ MB\n",
      "<class 'pandas.core.frame.DataFrame'>\n",
      "Int64Index: 74659 entries, 0 to 99999\n",
      "Data columns (total 22 columns):\n",
      "bathrooms                74659 non-null float64\n",
      "bedrooms                 74659 non-null int64\n",
      "building_id              74659 non-null int64\n",
      "created                  74659 non-null datetime64[ns]\n",
      "description              74659 non-null object\n",
      "display_address          74659 non-null int64\n",
      "features                 74659 non-null object\n",
      "latitude                 74659 non-null float64\n",
      "listing_id               74659 non-null int64\n",
      "longitude                74659 non-null float64\n",
      "manager_id               74659 non-null int64\n",
      "photos                   74659 non-null object\n",
      "price                    74659 non-null int64\n",
      "street_address           74659 non-null int64\n",
      "num_photos               74659 non-null int64\n",
      "num_features             74659 non-null int64\n",
      "num_description_words    74659 non-null int64\n",
      "created_year             74659 non-null int64\n",
      "created_month            74659 non-null int64\n",
      "created_day              74659 non-null int64\n",
      "created_hour             74659 non-null int64\n",
      "created_dayofweek        74659 non-null int64\n",
      "dtypes: datetime64[ns](1), float64(3), int64(15), object(3)\n",
      "memory usage: 13.1+ MB\n"
     ]
    }
   ],
   "source": [
    "train_proc.info()\n",
    "test_proc.info()"
   ]
  },
  {
   "cell_type": "code",
   "execution_count": 10,
   "metadata": {
    "collapsed": true
   },
   "outputs": [],
   "source": [
    "train_proc.to_csv('train_proc.csv',index=False)\n",
    "test_proc.to_csv('test_proc.csv',index=False)"
   ]
  },
  {
   "cell_type": "code",
   "execution_count": null,
   "metadata": {
    "collapsed": true
   },
   "outputs": [],
   "source": []
  }
 ],
 "metadata": {
  "kernelspec": {
   "display_name": "Python 3",
   "language": "python",
   "name": "python3"
  },
  "language_info": {
   "codemirror_mode": {
    "name": "ipython",
    "version": 3
   },
   "file_extension": ".py",
   "mimetype": "text/x-python",
   "name": "python",
   "nbconvert_exporter": "python",
   "pygments_lexer": "ipython3",
   "version": "3.5.2"
  }
 },
 "nbformat": 4,
 "nbformat_minor": 0
}
